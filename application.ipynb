{
 "cells": [
  {
   "cell_type": "markdown",
   "id": "51087d46",
   "metadata": {},
   "source": [
    "# Application of `close_residues.py` and `align_residues.py`\n",
    "\n",
    "Koen Westendorp, 2023.\n",
    "\n",
    "Some examples of how functions found in `close_residues.py` and `align_residues.py` in can be used."
   ]
  },
  {
   "cell_type": "code",
   "execution_count": 1,
   "id": "7a1a2866",
   "metadata": {},
   "outputs": [],
   "source": [
    "import close_residues\n",
    "import align_residues\n",
    "import MDAnalysis as mda"
   ]
  },
  {
   "cell_type": "code",
   "execution_count": 8,
   "id": "8d7a330c",
   "metadata": {},
   "outputs": [],
   "source": [
    "gro_path = ... # for example, \"/martini/koen/trajectories/structures-outer/2jk4/md.gro\"\n",
    "xtc_path = ... # for example, \"/martini/koen/trajectories/structures-outer/2jk4/md.xtc\"\n",
    "\n",
    "u = mda.Universe(gro_path, xtc_path, in_memory=True)"
   ]
  },
  {
   "cell_type": "code",
   "execution_count": 4,
   "id": "aebb1747",
   "metadata": {},
   "outputs": [
    {
     "data": {
      "text/plain": [
       "3334"
      ]
     },
     "execution_count": 4,
     "metadata": {},
     "output_type": "execute_result"
    }
   ],
   "source": [
    "close_cholesterols = close_residues.close_residues_universe(u, \"protein\", \"resname CHOL\")\n",
    "len(close_cholesterols)"
   ]
  },
  {
   "cell_type": "code",
   "execution_count": 5,
   "id": "9634cdb4",
   "metadata": {},
   "outputs": [
    {
     "name": "stdout",
     "output_type": "stream",
     "text": [
      "RO_f.reshape(n_frames, -1, residue_size, 3).shape = (3334, 32, 8, 3)\n"
     ]
    },
    {
     "data": {
      "text/plain": [
       "(3334, 32, 8, 3)"
      ]
     },
     "execution_count": 5,
     "metadata": {},
     "output_type": "execute_result"
    }
   ],
   "source": [
    "aligned_cholesterols = align_residues.align_residues_from_universe(u, \"resname CHOL\", 6, 3, 3, 1)\n",
    "aligned_cholesterols.shape"
   ]
  }
 ],
 "metadata": {
  "kernelspec": {
   "display_name": "Python 3 (ipykernel)",
   "language": "python",
   "name": "python3"
  },
  "language_info": {
   "codemirror_mode": {
    "name": "ipython",
    "version": 3
   },
   "file_extension": ".py",
   "mimetype": "text/x-python",
   "name": "python",
   "nbconvert_exporter": "python",
   "pygments_lexer": "ipython3",
   "version": "3.8.10"
  }
 },
 "nbformat": 4,
 "nbformat_minor": 5
}
